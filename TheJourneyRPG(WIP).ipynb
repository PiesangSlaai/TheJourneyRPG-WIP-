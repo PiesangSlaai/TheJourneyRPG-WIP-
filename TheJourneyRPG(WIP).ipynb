{
 "cells": [
  {
   "cell_type": "code",
   "execution_count": 1,
   "id": "18a7f7ba-94c2-421d-8ac7-f0cc948bc7cd",
   "metadata": {},
   "outputs": [
    {
     "name": "stdin",
     "output_type": "stream",
     "text": [
      "Enter your player name:  Zian\n"
     ]
    },
    {
     "name": "stdout",
     "output_type": "stream",
     "text": [
      "Choose your class:\n",
      "1. Knight\n",
      "2. Mage\n",
      "3. Bard\n",
      "4. Ranger\n"
     ]
    },
    {
     "name": "stdin",
     "output_type": "stream",
     "text": [
      "Enter the number corresponding to your desired class:  Knight\n"
     ]
    },
    {
     "name": "stdout",
     "output_type": "stream",
     "text": [
      "Invalid input. Please enter a number.\n"
     ]
    },
    {
     "name": "stdin",
     "output_type": "stream",
     "text": [
      "Enter the number corresponding to your desired class:  1\n"
     ]
    },
    {
     "name": "stdout",
     "output_type": "stream",
     "text": [
      "You have chosen Knight class.\n",
      "\n",
      "Welcome Zian!\n",
      "\n",
      "Main Menu:\n",
      "1. View Stats\n",
      "2. Look around\n",
      "3. Travel\n",
      "4. Shop\n",
      "5. Inventory\n"
     ]
    },
    {
     "ename": "KeyboardInterrupt",
     "evalue": "Interrupted by user",
     "output_type": "error",
     "traceback": [
      "\u001b[1;31m---------------------------------------------------------------------------\u001b[0m",
      "\u001b[1;31mKeyboardInterrupt\u001b[0m                         Traceback (most recent call last)",
      "Cell \u001b[1;32mIn[1], line 89\u001b[0m\n\u001b[0;32m     87\u001b[0m \u001b[38;5;28mprint\u001b[39m(\u001b[38;5;124mf\u001b[39m\u001b[38;5;124m\"\u001b[39m\u001b[38;5;130;01m\\n\u001b[39;00m\u001b[38;5;124mWelcome \u001b[39m\u001b[38;5;132;01m{\u001b[39;00mpName\u001b[38;5;132;01m}\u001b[39;00m\u001b[38;5;124m!\u001b[39m\u001b[38;5;124m\"\u001b[39m)\n\u001b[0;32m     88\u001b[0m \u001b[38;5;28;01mwhile\u001b[39;00m \u001b[38;5;28;01mTrue\u001b[39;00m:\n\u001b[1;32m---> 89\u001b[0m     choice \u001b[38;5;241m=\u001b[39m \u001b[43mmain_menu\u001b[49m\u001b[43m(\u001b[49m\u001b[43m)\u001b[49m\n\u001b[0;32m     90\u001b[0m     \u001b[38;5;28;01mif\u001b[39;00m choice \u001b[38;5;241m==\u001b[39m \u001b[38;5;241m1\u001b[39m:\n\u001b[0;32m     91\u001b[0m         view_stats()\n",
      "Cell \u001b[1;32mIn[1], line 46\u001b[0m, in \u001b[0;36mmain_menu\u001b[1;34m()\u001b[0m\n\u001b[0;32m     44\u001b[0m \u001b[38;5;28;01mwhile\u001b[39;00m \u001b[38;5;28;01mTrue\u001b[39;00m:\n\u001b[0;32m     45\u001b[0m     \u001b[38;5;28;01mtry\u001b[39;00m:\n\u001b[1;32m---> 46\u001b[0m         choice \u001b[38;5;241m=\u001b[39m \u001b[38;5;28mint\u001b[39m(\u001b[38;5;28;43minput\u001b[39;49m\u001b[43m(\u001b[49m\u001b[38;5;124;43m\"\u001b[39;49m\u001b[38;5;124;43mEnter the number corresponding to your desired action: \u001b[39;49m\u001b[38;5;124;43m\"\u001b[39;49m\u001b[43m)\u001b[49m)\n\u001b[0;32m     47\u001b[0m         \u001b[38;5;28;01mif\u001b[39;00m choice \u001b[38;5;129;01min\u001b[39;00m \u001b[38;5;28mrange\u001b[39m(\u001b[38;5;241m1\u001b[39m, \u001b[38;5;28mlen\u001b[39m(activityUI) \u001b[38;5;241m+\u001b[39m \u001b[38;5;241m1\u001b[39m):\n\u001b[0;32m     48\u001b[0m             \u001b[38;5;28;01mreturn\u001b[39;00m choice\n",
      "File \u001b[1;32m~\\AppData\\Local\\Programs\\Python\\Python311\\Lib\\site-packages\\ipykernel\\kernelbase.py:1191\u001b[0m, in \u001b[0;36mKernel.raw_input\u001b[1;34m(self, prompt)\u001b[0m\n\u001b[0;32m   1189\u001b[0m     msg \u001b[38;5;241m=\u001b[39m \u001b[38;5;124m\"\u001b[39m\u001b[38;5;124mraw_input was called, but this frontend does not support input requests.\u001b[39m\u001b[38;5;124m\"\u001b[39m\n\u001b[0;32m   1190\u001b[0m     \u001b[38;5;28;01mraise\u001b[39;00m StdinNotImplementedError(msg)\n\u001b[1;32m-> 1191\u001b[0m \u001b[38;5;28;01mreturn\u001b[39;00m \u001b[38;5;28;43mself\u001b[39;49m\u001b[38;5;241;43m.\u001b[39;49m\u001b[43m_input_request\u001b[49m\u001b[43m(\u001b[49m\n\u001b[0;32m   1192\u001b[0m \u001b[43m    \u001b[49m\u001b[38;5;28;43mstr\u001b[39;49m\u001b[43m(\u001b[49m\u001b[43mprompt\u001b[49m\u001b[43m)\u001b[49m\u001b[43m,\u001b[49m\n\u001b[0;32m   1193\u001b[0m \u001b[43m    \u001b[49m\u001b[38;5;28;43mself\u001b[39;49m\u001b[38;5;241;43m.\u001b[39;49m\u001b[43m_parent_ident\u001b[49m\u001b[43m[\u001b[49m\u001b[38;5;124;43m\"\u001b[39;49m\u001b[38;5;124;43mshell\u001b[39;49m\u001b[38;5;124;43m\"\u001b[39;49m\u001b[43m]\u001b[49m\u001b[43m,\u001b[49m\n\u001b[0;32m   1194\u001b[0m \u001b[43m    \u001b[49m\u001b[38;5;28;43mself\u001b[39;49m\u001b[38;5;241;43m.\u001b[39;49m\u001b[43mget_parent\u001b[49m\u001b[43m(\u001b[49m\u001b[38;5;124;43m\"\u001b[39;49m\u001b[38;5;124;43mshell\u001b[39;49m\u001b[38;5;124;43m\"\u001b[39;49m\u001b[43m)\u001b[49m\u001b[43m,\u001b[49m\n\u001b[0;32m   1195\u001b[0m \u001b[43m    \u001b[49m\u001b[43mpassword\u001b[49m\u001b[38;5;241;43m=\u001b[39;49m\u001b[38;5;28;43;01mFalse\u001b[39;49;00m\u001b[43m,\u001b[49m\n\u001b[0;32m   1196\u001b[0m \u001b[43m\u001b[49m\u001b[43m)\u001b[49m\n",
      "File \u001b[1;32m~\\AppData\\Local\\Programs\\Python\\Python311\\Lib\\site-packages\\ipykernel\\kernelbase.py:1234\u001b[0m, in \u001b[0;36mKernel._input_request\u001b[1;34m(self, prompt, ident, parent, password)\u001b[0m\n\u001b[0;32m   1231\u001b[0m \u001b[38;5;28;01mexcept\u001b[39;00m \u001b[38;5;167;01mKeyboardInterrupt\u001b[39;00m:\n\u001b[0;32m   1232\u001b[0m     \u001b[38;5;66;03m# re-raise KeyboardInterrupt, to truncate traceback\u001b[39;00m\n\u001b[0;32m   1233\u001b[0m     msg \u001b[38;5;241m=\u001b[39m \u001b[38;5;124m\"\u001b[39m\u001b[38;5;124mInterrupted by user\u001b[39m\u001b[38;5;124m\"\u001b[39m\n\u001b[1;32m-> 1234\u001b[0m     \u001b[38;5;28;01mraise\u001b[39;00m \u001b[38;5;167;01mKeyboardInterrupt\u001b[39;00m(msg) \u001b[38;5;28;01mfrom\u001b[39;00m \u001b[38;5;28;01mNone\u001b[39;00m\n\u001b[0;32m   1235\u001b[0m \u001b[38;5;28;01mexcept\u001b[39;00m \u001b[38;5;167;01mException\u001b[39;00m:\n\u001b[0;32m   1236\u001b[0m     \u001b[38;5;28mself\u001b[39m\u001b[38;5;241m.\u001b[39mlog\u001b[38;5;241m.\u001b[39mwarning(\u001b[38;5;124m\"\u001b[39m\u001b[38;5;124mInvalid Message:\u001b[39m\u001b[38;5;124m\"\u001b[39m, exc_info\u001b[38;5;241m=\u001b[39m\u001b[38;5;28;01mTrue\u001b[39;00m)\n",
      "\u001b[1;31mKeyboardInterrupt\u001b[0m: Interrupted by user"
     ]
    }
   ],
   "source": [
    "import time \n",
    "import math\n",
    "import random\n",
    "\n",
    "classTypes = [\"Knight\", \"Mage\", \"Bard\", \"Ranger\"]\n",
    "skillNames = [\"Attack\", \"Speed\", \"Defence\", \"Speech\", \"Health\", \"Mana\"]\n",
    "classSkills = [[8,4,8,2,8,0],[7,7,5,4,6,10],[2,10,2,10,2,0],[6,10,4,5,5,0]]\n",
    "pName = \"\"\n",
    "pSkills = [0,0,0,0,0,0]\n",
    "skillChange = [0,0,0,0,0,0]\n",
    "pClass = -1\n",
    "pGold = 500\n",
    "pStatus = \"Fine\"\n",
    "pLevel = 0\n",
    "pXP = 0\n",
    "currentLocation = \"Graveyard\"\n",
    "placesToTravel= [[\"Farm\",\"Town\",\"River\",\"Home\",\"Encampment\"]]\n",
    "distanceToGraveyard = 0\n",
    "activityUI = [\"View Stats\",\"Look around\",\"Travel\",\"Shop\",\"Inventory\"]\n",
    "itemsToBuy = [[\"health potion\",\"bread\",\"skill potion\"],[100,10,300]]\n",
    "\n",
    "def choose_class():\n",
    "    global pClass, pSkills\n",
    "    print(\"Choose your class:\")\n",
    "    for i, classType in enumerate(classTypes):\n",
    "        print(f\"{i+1}. {classType}\")\n",
    "    while True:\n",
    "        try:\n",
    "            choice = int(input(\"Enter the number corresponding to your desired class: \"))\n",
    "            if choice in range(1, len(classTypes) + 1):\n",
    "                pClass = choice - 1\n",
    "                pSkills = classSkills[pClass].copy()\n",
    "                print(f\"You have chosen {classTypes[pClass]} class.\")\n",
    "                break\n",
    "            else:\n",
    "                print(\"Invalid choice. Please enter a number between 1 and\", len(classTypes))\n",
    "        except ValueError:\n",
    "            print(\"Invalid input. Please enter a number.\")\n",
    "\n",
    "def main_menu():\n",
    "    print(\"\\nMain Menu:\")\n",
    "    for i, option in enumerate(activityUI):\n",
    "        print(f\"{i+1}. {option}\")\n",
    "    while True:\n",
    "        try:\n",
    "            choice = int(input(\"Enter the number corresponding to your desired action: \"))\n",
    "            if choice in range(1, len(activityUI) + 1):\n",
    "                return choice\n",
    "            else:\n",
    "                print(\"Invalid choice. Please enter a number between 1 and\", len(activityUI))\n",
    "        except ValueError:\n",
    "            print(\"Invalid input. Please enter a number.\")\n",
    "\n",
    "def view_stats():\n",
    "    print(\"\\nPlayer Stats:\")\n",
    "    print(f\"Name: {pName}\")\n",
    "    print(f\"Class: {classTypes[pClass]}\")\n",
    "    print(\"Skills:\")\n",
    "    for skill, value in zip(skillNames, pSkills):\n",
    "        print(f\"{skill}: {value}\")\n",
    "    print(f\"Gold: {pGold}\")\n",
    "    print(f\"Status: {pStatus}\")\n",
    "    print(f\"Level: {pLevel}\")\n",
    "    print(f\"XP: {pXP}\")\n",
    "\n",
    "def look_around():\n",
    "    print(f\"\\nYou are currently at {currentLocation}.\")\n",
    "\n",
    "def travel():\n",
    "    print(\"\\nAvailable Places to Travel:\")\n",
    "    for i, place in enumerate(placesToTravel[0]):\n",
    "        print(f\"{i+1}. {place}\")\n",
    "\n",
    "def shop():\n",
    "    print(\"\\nWelcome to the Shop!\")\n",
    "    print(\"Items available for purchase:\")\n",
    "    for item, price in zip(itemsToBuy[0], itemsToBuy[1]):\n",
    "        print(f\"{item}: {price} gold\")\n",
    "    # Add code here to handle shopping.\n",
    "\n",
    "def inventory():\n",
    "    pass  # Placeholder\n",
    "\n",
    "if __name__ == \"__main__\":\n",
    "    pName = input(\"Enter your player name: \")\n",
    "    choose_class()\n",
    "    print(f\"\\nWelcome {pName}!\")\n",
    "    while True:\n",
    "        choice = main_menu()\n",
    "        if choice == 1:\n",
    "            view_stats()\n",
    "        elif choice == 2:\n",
    "            look_around()\n",
    "        elif choice == 3:\n",
    "            travel()\n",
    "        elif choice == 4:\n",
    "            shop()\n",
    "        elif choice == 5:\n",
    "            inventory()\n",
    "        else:\n",
    "            print(\"Invalid choice.\")\n",
    "\n"
   ]
  },
  {
   "cell_type": "code",
   "execution_count": null,
   "id": "cfdacbba-bd6e-4a92-8e62-6aa2a3929a6d",
   "metadata": {},
   "outputs": [],
   "source": []
  }
 ],
 "metadata": {
  "kernelspec": {
   "display_name": "Python 3 (ipykernel)",
   "language": "python",
   "name": "python3"
  },
  "language_info": {
   "codemirror_mode": {
    "name": "ipython",
    "version": 3
   },
   "file_extension": ".py",
   "mimetype": "text/x-python",
   "name": "python",
   "nbconvert_exporter": "python",
   "pygments_lexer": "ipython3",
   "version": "3.11.3"
  }
 },
 "nbformat": 4,
 "nbformat_minor": 5
}
